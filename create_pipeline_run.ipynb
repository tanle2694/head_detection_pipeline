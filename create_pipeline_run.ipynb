{
 "cells": [
  {
   "cell_type": "code",
   "execution_count": 5,
   "id": "cd6fab03",
   "metadata": {},
   "outputs": [],
   "source": [
    "from pipeline import pipeline_head\n",
    "import kfp"
   ]
  },
  {
   "cell_type": "code",
   "execution_count": 6,
   "id": "97563463",
   "metadata": {},
   "outputs": [],
   "source": [
    "session_cookie=\"authservice_session=MTYyMTI2MjE5M3xOd3dBTkVKWlZEWlZRVWxWVFZCTlRGaERWbGRJUWpaRFUwdFNSa0pZVUVRMFdVa3pSbGRYVGtKTFEweExOa1F6U2t0Uk4wcFRSRUU9fHvgFOpw0IQ-V7IYkzcIUsGtHVDh9otPGgcf8hJYhaX4\""
   ]
  },
  {
   "cell_type": "code",
   "execution_count": 7,
   "id": "e084e133",
   "metadata": {},
   "outputs": [],
   "source": [
    "api_endpoint = \"http://10.0.19.82:8080/pipeline\"\n",
    "client = kfp.Client(host=api_endpoint, cookies=session_cookie)\n",
    "namespace='kubeflow-user-example-com'"
   ]
  },
  {
   "cell_type": "code",
   "execution_count": 8,
   "id": "ecef179b",
   "metadata": {},
   "outputs": [
    {
     "name": "stderr",
     "output_type": "stream",
     "text": [
      "/home/tan.le2/.pyenv/versions/3.6.6/envs/kubeflow_tut/lib/python3.6/site-packages/kfp/dsl/_container_op.py:1039: FutureWarning: Please create reusable components instead of constructing ContainerOp instances directly. Reusable components are shareable, portable and have compatibility and support guarantees. Please see the documentation: https://www.kubeflow.org/docs/pipelines/sdk/component-development/#writing-your-component-definition-file The components can be created manually (or, in case of python, using kfp.components.create_component_from_func or func_to_container_op) and then loaded using kfp.components.load_component_from_file, load_component_from_uri or load_component_from_text: https://kubeflow-pipelines.readthedocs.io/en/stable/source/kfp.components.html#kfp.components.load_component_from_file\n",
      "  category=FutureWarning,\n"
     ]
    },
    {
     "data": {
      "text/html": [
       "<a href=\"http://10.0.19.82:8080/pipeline/#/experiments/details/1cdba53b-3315-4ad2-aa16-03b5319ada42\" target=\"_blank\" >Experiment details</a>."
      ],
      "text/plain": [
       "<IPython.core.display.HTML object>"
      ]
     },
     "metadata": {},
     "output_type": "display_data"
    },
    {
     "data": {
      "text/html": [
       "<a href=\"http://10.0.19.82:8080/pipeline/#/runs/details/b1ed9d29-f6f2-4b38-9fca-73d9459a61b7\" target=\"_blank\" >Run details</a>."
      ],
      "text/plain": [
       "<IPython.core.display.HTML object>"
      ]
     },
     "metadata": {},
     "output_type": "display_data"
    },
    {
     "data": {
      "text/plain": [
       "RunPipelineResult(run_id=b1ed9d29-f6f2-4b38-9fca-73d9459a61b7)"
      ]
     },
     "execution_count": 8,
     "metadata": {},
     "output_type": "execute_result"
    }
   ],
   "source": [
    "client.create_run_from_pipeline_func(pipeline_head, arguments={\"rev\": \"086727bbdf6d18b1cd4e4996abfb80d0850b4025\"}, experiment_name=\"tanlmtest\",\n",
    "                                         namespace=\"kubeflow-user-example-com\")"
   ]
  }
 ],
 "metadata": {
  "kernelspec": {
   "display_name": "kubeflow-tut",
   "language": "python",
   "name": "kubeflow-tut"
  },
  "language_info": {
   "codemirror_mode": {
    "name": "ipython",
    "version": 3
   },
   "file_extension": ".py",
   "mimetype": "text/x-python",
   "name": "python",
   "nbconvert_exporter": "python",
   "pygments_lexer": "ipython3",
   "version": "3.6.6"
  }
 },
 "nbformat": 4,
 "nbformat_minor": 5
}
